{
 "cells": [
  {
   "cell_type": "code",
   "execution_count": 6,
   "id": "5d3e5a38-a89b-4d30-be8b-502ff220827f",
   "metadata": {},
   "outputs": [
    {
     "name": "stdout",
     "output_type": "stream",
     "text": [
      "Collecting git+https://github.com/JustAnotherArchivist/snscrape.git\n",
      "  Cloning https://github.com/JustAnotherArchivist/snscrape.git to c:\\users\\90535\\appdata\\local\\temp\\pip-req-build-i3o99v1k\n",
      "  Resolved https://github.com/JustAnotherArchivist/snscrape.git to commit e09aea70e74583f58540aeb584c089813cca547b\n",
      "  Preparing metadata (setup.py): started\n",
      "  Preparing metadata (setup.py): finished with status 'done'\n",
      "Requirement already satisfied: requests[socks] in c:\\users\\90535\\anaconda3\\envs\\homework2\\lib\\site-packages (from snscrape==0.4.3.20220107.dev66+ge09aea7) (2.28.1)\n",
      "Requirement already satisfied: lxml in c:\\users\\90535\\anaconda3\\envs\\homework2\\lib\\site-packages (from snscrape==0.4.3.20220107.dev66+ge09aea7) (4.9.1)\n",
      "Requirement already satisfied: beautifulsoup4 in c:\\users\\90535\\anaconda3\\envs\\homework2\\lib\\site-packages (from snscrape==0.4.3.20220107.dev66+ge09aea7) (4.11.1)\n",
      "Requirement already satisfied: filelock in c:\\users\\90535\\anaconda3\\envs\\homework2\\lib\\site-packages (from snscrape==0.4.3.20220107.dev66+ge09aea7) (3.8.0)\n",
      "Requirement already satisfied: pytz in c:\\users\\90535\\anaconda3\\envs\\homework2\\lib\\site-packages (from snscrape==0.4.3.20220107.dev66+ge09aea7) (2022.1)\n",
      "Requirement already satisfied: soupsieve>1.2 in c:\\users\\90535\\anaconda3\\envs\\homework2\\lib\\site-packages (from beautifulsoup4->snscrape==0.4.3.20220107.dev66+ge09aea7) (2.3.2.post1)\n",
      "Requirement already satisfied: charset-normalizer<3,>=2 in c:\\users\\90535\\anaconda3\\envs\\homework2\\lib\\site-packages (from requests[socks]->snscrape==0.4.3.20220107.dev66+ge09aea7) (2.0.4)\n",
      "Requirement already satisfied: certifi>=2017.4.17 in c:\\users\\90535\\anaconda3\\envs\\homework2\\lib\\site-packages (from requests[socks]->snscrape==0.4.3.20220107.dev66+ge09aea7) (2022.9.24)\n",
      "Requirement already satisfied: urllib3<1.27,>=1.21.1 in c:\\users\\90535\\anaconda3\\envs\\homework2\\lib\\site-packages (from requests[socks]->snscrape==0.4.3.20220107.dev66+ge09aea7) (1.26.12)\n",
      "Requirement already satisfied: idna<4,>=2.5 in c:\\users\\90535\\anaconda3\\envs\\homework2\\lib\\site-packages (from requests[socks]->snscrape==0.4.3.20220107.dev66+ge09aea7) (3.4)\n",
      "Requirement already satisfied: PySocks!=1.5.7,>=1.5.6 in c:\\users\\90535\\anaconda3\\envs\\homework2\\lib\\site-packages (from requests[socks]->snscrape==0.4.3.20220107.dev66+ge09aea7) (1.7.1)\n"
     ]
    },
    {
     "name": "stderr",
     "output_type": "stream",
     "text": [
      "  Running command git clone --filter=blob:none --quiet https://github.com/JustAnotherArchivist/snscrape.git 'C:\\Users\\90535\\AppData\\Local\\Temp\\pip-req-build-i3o99v1k'\n"
     ]
    }
   ],
   "source": [
    "!pip3 install git+https://github.com/JustAnotherArchivist/snscrape.git"
   ]
  },
  {
   "cell_type": "markdown",
   "id": "a0af06a6-942f-479c-a509-b2f9f8aa0378",
   "metadata": {},
   "source": [
    "I created a new environment and used Python version 3.8 to download the new version of the snscrape library."
   ]
  },
  {
   "cell_type": "code",
   "execution_count": 7,
   "id": "5b62a19d-a1a8-48db-a143-f05814f6f018",
   "metadata": {},
   "outputs": [
    {
     "name": "stdout",
     "output_type": "stream",
     "text": [
      "Requirement already satisfied: pandas in c:\\users\\90535\\anaconda3\\envs\\homework2\\lib\\site-packages (1.5.2)\n",
      "Requirement already satisfied: python-dateutil>=2.8.1 in c:\\users\\90535\\anaconda3\\envs\\homework2\\lib\\site-packages (from pandas) (2.8.2)\n",
      "Requirement already satisfied: pytz>=2020.1 in c:\\users\\90535\\anaconda3\\envs\\homework2\\lib\\site-packages (from pandas) (2022.1)\n",
      "Requirement already satisfied: numpy>=1.20.3 in c:\\users\\90535\\anaconda3\\envs\\homework2\\lib\\site-packages (from pandas) (1.23.5)\n",
      "Requirement already satisfied: six>=1.5 in c:\\users\\90535\\anaconda3\\envs\\homework2\\lib\\site-packages (from python-dateutil>=2.8.1->pandas) (1.16.0)\n"
     ]
    }
   ],
   "source": [
    "!pip install pandas"
   ]
  },
  {
   "cell_type": "code",
   "execution_count": 8,
   "id": "cc5d17a1-8bed-4209-a4eb-c62313eb2f16",
   "metadata": {},
   "outputs": [],
   "source": [
    "import pandas as pd\n",
    "import snscrape.modules.twitter as sntwitter\n",
    "import numpy as np"
   ]
  },
  {
   "cell_type": "markdown",
   "id": "5d73a1c9-8422-4555-8dc8-43f5521f33f6",
   "metadata": {},
   "source": [
    "Using the Snscrabe library, I collected the last 1000 tweets of Kemal Kılıçdaroğlu and Recep Tayyip Erdoğan in two different datasets. I got some important information under the name like_count, retweet_count, quote_count and reply_count."
   ]
  },
  {
   "cell_type": "code",
   "execution_count": 9,
   "id": "03839d3b-cc0b-4bef-9305-e89b2f3bcbbd",
   "metadata": {},
   "outputs": [
    {
     "name": "stderr",
     "output_type": "stream",
     "text": [
      "C:\\Users\\90535\\AppData\\Local\\Temp\\ipykernel_18768\\3341005599.py:8: FutureWarning: content is deprecated, use rawContent instead\n",
      "  tweets_list.append([tweet.date, tweet.id, tweet.content,tweet.retweetCount,tweet.likeCount,tweet.replyCount,tweet.quoteCount,tweet.user.username]) #declare the attributes to be returned\n"
     ]
    }
   ],
   "source": [
    "# Creating list to append tweet data \n",
    "tweets_list = []\n",
    "\n",
    "# Using TwitterSearchScraper to scrape data and append tweets to list\n",
    "for i,tweet in enumerate(sntwitter.TwitterSearchScraper('from:kilicdarogluk').get_items()): #declare a username \n",
    "    if i>1000: #number of tweets you want to scrape\n",
    "        break\n",
    "    tweets_list.append([tweet.date, tweet.id, tweet.content,tweet.retweetCount,tweet.likeCount,tweet.replyCount,tweet.quoteCount,tweet.user.username]) #declare the attributes to be returned\n",
    "    \n",
    "# Creating a dataframe from the tweets list above \n",
    "tweets_df_kk = pd.DataFrame(tweets_list, columns=['Datetime', 'Tweet Id','Text','RetweetCount','LikeCount','ReplyCount','QuoeCount','Username'])"
   ]
  },
  {
   "cell_type": "code",
   "execution_count": 10,
   "id": "2051e435-93da-4310-a2e5-4789ef076866",
   "metadata": {},
   "outputs": [
    {
     "data": {
      "text/html": [
       "<div>\n",
       "<style scoped>\n",
       "    .dataframe tbody tr th:only-of-type {\n",
       "        vertical-align: middle;\n",
       "    }\n",
       "\n",
       "    .dataframe tbody tr th {\n",
       "        vertical-align: top;\n",
       "    }\n",
       "\n",
       "    .dataframe thead th {\n",
       "        text-align: right;\n",
       "    }\n",
       "</style>\n",
       "<table border=\"1\" class=\"dataframe\">\n",
       "  <thead>\n",
       "    <tr style=\"text-align: right;\">\n",
       "      <th></th>\n",
       "      <th>Datetime</th>\n",
       "      <th>Tweet Id</th>\n",
       "      <th>Text</th>\n",
       "      <th>RetweetCount</th>\n",
       "      <th>LikeCount</th>\n",
       "      <th>ReplyCount</th>\n",
       "      <th>QuoeCount</th>\n",
       "      <th>Username</th>\n",
       "    </tr>\n",
       "  </thead>\n",
       "  <tbody>\n",
       "    <tr>\n",
       "      <th>0</th>\n",
       "      <td>2022-12-03 20:15:48+00:00</td>\n",
       "      <td>1599135334054387712</td>\n",
       "      <td>Ekonomi ve endüstriyel dönüşüm alanlarında, Şa...</td>\n",
       "      <td>4033</td>\n",
       "      <td>30829</td>\n",
       "      <td>3747</td>\n",
       "      <td>443</td>\n",
       "      <td>kilicdarogluk</td>\n",
       "    </tr>\n",
       "    <tr>\n",
       "      <th>1</th>\n",
       "      <td>2022-12-03 11:13:56+00:00</td>\n",
       "      <td>1598998966607269888</td>\n",
       "      <td>Türkiye bunu hak ediyor... #İkinciYüzyılaÇağrı...</td>\n",
       "      <td>5330</td>\n",
       "      <td>26304</td>\n",
       "      <td>4562</td>\n",
       "      <td>648</td>\n",
       "      <td>kilicdarogluk</td>\n",
       "    </tr>\n",
       "    <tr>\n",
       "      <th>2</th>\n",
       "      <td>2022-12-03 09:47:26+00:00</td>\n",
       "      <td>1598977197930270720</td>\n",
       "      <td>Türkiye’nin ekonomide ve endüstriyel dönüşümde...</td>\n",
       "      <td>4360</td>\n",
       "      <td>30233</td>\n",
       "      <td>3430</td>\n",
       "      <td>440</td>\n",
       "      <td>kilicdarogluk</td>\n",
       "    </tr>\n",
       "    <tr>\n",
       "      <th>3</th>\n",
       "      <td>2022-11-30 13:56:56+00:00</td>\n",
       "      <td>1597952826352738306</td>\n",
       "      <td>3 Aralık. https://t.co/xuexd0AIRf</td>\n",
       "      <td>6921</td>\n",
       "      <td>41816</td>\n",
       "      <td>7241</td>\n",
       "      <td>1760</td>\n",
       "      <td>kilicdarogluk</td>\n",
       "    </tr>\n",
       "    <tr>\n",
       "      <th>4</th>\n",
       "      <td>2022-11-29 10:34:37+00:00</td>\n",
       "      <td>1597539520915775488</td>\n",
       "      <td>Partimizin TBMM Grup Toplantısı  https://t.co/...</td>\n",
       "      <td>1306</td>\n",
       "      <td>5172</td>\n",
       "      <td>949</td>\n",
       "      <td>57</td>\n",
       "      <td>kilicdarogluk</td>\n",
       "    </tr>\n",
       "    <tr>\n",
       "      <th>...</th>\n",
       "      <td>...</td>\n",
       "      <td>...</td>\n",
       "      <td>...</td>\n",
       "      <td>...</td>\n",
       "      <td>...</td>\n",
       "      <td>...</td>\n",
       "      <td>...</td>\n",
       "      <td>...</td>\n",
       "    </tr>\n",
       "    <tr>\n",
       "      <th>996</th>\n",
       "      <td>2021-09-11 10:10:09+00:00</td>\n",
       "      <td>1436633150772367365</td>\n",
       "      <td>İdlib’de, hain terör örgütü tarafından düzenle...</td>\n",
       "      <td>736</td>\n",
       "      <td>11005</td>\n",
       "      <td>388</td>\n",
       "      <td>58</td>\n",
       "      <td>kilicdarogluk</td>\n",
       "    </tr>\n",
       "    <tr>\n",
       "      <th>997</th>\n",
       "      <td>2021-09-11 08:51:00+00:00</td>\n",
       "      <td>1436613233876553731</td>\n",
       "      <td>Ege Sanayicileri ve İşinsanları Derneği Yüksek...</td>\n",
       "      <td>446</td>\n",
       "      <td>4071</td>\n",
       "      <td>155</td>\n",
       "      <td>10</td>\n",
       "      <td>kilicdarogluk</td>\n",
       "    </tr>\n",
       "    <tr>\n",
       "      <th>998</th>\n",
       "      <td>2021-09-10 17:06:02+00:00</td>\n",
       "      <td>1436375425542938625</td>\n",
       "      <td>Erdoğan kendi gerçeküstü dünyasında rekor üstü...</td>\n",
       "      <td>839</td>\n",
       "      <td>12599</td>\n",
       "      <td>466</td>\n",
       "      <td>28</td>\n",
       "      <td>kilicdarogluk</td>\n",
       "    </tr>\n",
       "    <tr>\n",
       "      <th>999</th>\n",
       "      <td>2021-09-09 13:29:02+00:00</td>\n",
       "      <td>1435958428095164418</td>\n",
       "      <td>Gençlerimize verdiğim, ilk 6 ayda 6 vaadimden ...</td>\n",
       "      <td>2145</td>\n",
       "      <td>20379</td>\n",
       "      <td>1848</td>\n",
       "      <td>343</td>\n",
       "      <td>kilicdarogluk</td>\n",
       "    </tr>\n",
       "    <tr>\n",
       "      <th>1000</th>\n",
       "      <td>2021-09-09 08:11:48+00:00</td>\n",
       "      <td>1435878593205260292</td>\n",
       "      <td>Parti Meclisi Toplantısı Açılış Konuşması #CHP...</td>\n",
       "      <td>694</td>\n",
       "      <td>5939</td>\n",
       "      <td>239</td>\n",
       "      <td>16</td>\n",
       "      <td>kilicdarogluk</td>\n",
       "    </tr>\n",
       "  </tbody>\n",
       "</table>\n",
       "<p>1001 rows × 8 columns</p>\n",
       "</div>"
      ],
      "text/plain": [
       "                      Datetime             Tweet Id  \\\n",
       "0    2022-12-03 20:15:48+00:00  1599135334054387712   \n",
       "1    2022-12-03 11:13:56+00:00  1598998966607269888   \n",
       "2    2022-12-03 09:47:26+00:00  1598977197930270720   \n",
       "3    2022-11-30 13:56:56+00:00  1597952826352738306   \n",
       "4    2022-11-29 10:34:37+00:00  1597539520915775488   \n",
       "...                        ...                  ...   \n",
       "996  2021-09-11 10:10:09+00:00  1436633150772367365   \n",
       "997  2021-09-11 08:51:00+00:00  1436613233876553731   \n",
       "998  2021-09-10 17:06:02+00:00  1436375425542938625   \n",
       "999  2021-09-09 13:29:02+00:00  1435958428095164418   \n",
       "1000 2021-09-09 08:11:48+00:00  1435878593205260292   \n",
       "\n",
       "                                                   Text  RetweetCount  \\\n",
       "0     Ekonomi ve endüstriyel dönüşüm alanlarında, Şa...          4033   \n",
       "1     Türkiye bunu hak ediyor... #İkinciYüzyılaÇağrı...          5330   \n",
       "2     Türkiye’nin ekonomide ve endüstriyel dönüşümde...          4360   \n",
       "3                     3 Aralık. https://t.co/xuexd0AIRf          6921   \n",
       "4     Partimizin TBMM Grup Toplantısı  https://t.co/...          1306   \n",
       "...                                                 ...           ...   \n",
       "996   İdlib’de, hain terör örgütü tarafından düzenle...           736   \n",
       "997   Ege Sanayicileri ve İşinsanları Derneği Yüksek...           446   \n",
       "998   Erdoğan kendi gerçeküstü dünyasında rekor üstü...           839   \n",
       "999   Gençlerimize verdiğim, ilk 6 ayda 6 vaadimden ...          2145   \n",
       "1000  Parti Meclisi Toplantısı Açılış Konuşması #CHP...           694   \n",
       "\n",
       "      LikeCount  ReplyCount  QuoeCount       Username  \n",
       "0         30829        3747        443  kilicdarogluk  \n",
       "1         26304        4562        648  kilicdarogluk  \n",
       "2         30233        3430        440  kilicdarogluk  \n",
       "3         41816        7241       1760  kilicdarogluk  \n",
       "4          5172         949         57  kilicdarogluk  \n",
       "...         ...         ...        ...            ...  \n",
       "996       11005         388         58  kilicdarogluk  \n",
       "997        4071         155         10  kilicdarogluk  \n",
       "998       12599         466         28  kilicdarogluk  \n",
       "999       20379        1848        343  kilicdarogluk  \n",
       "1000       5939         239         16  kilicdarogluk  \n",
       "\n",
       "[1001 rows x 8 columns]"
      ]
     },
     "execution_count": 10,
     "metadata": {},
     "output_type": "execute_result"
    }
   ],
   "source": [
    "tweets_df_kk"
   ]
  },
  {
   "cell_type": "code",
   "execution_count": 11,
   "id": "2499226d-f0e0-4b65-824e-ac14832abd07",
   "metadata": {},
   "outputs": [
    {
     "name": "stderr",
     "output_type": "stream",
     "text": [
      "C:\\Users\\90535\\AppData\\Local\\Temp\\ipykernel_18768\\2615611452.py:8: FutureWarning: content is deprecated, use rawContent instead\n",
      "  tweets_list.append([tweet.date, tweet.id, tweet.content,tweet.retweetCount,tweet.likeCount,tweet.replyCount,tweet.quoteCount,tweet.user.username]) #declare the attributes to be returned\n"
     ]
    }
   ],
   "source": [
    "# Creating list to append tweet data \n",
    "tweets_list = []\n",
    "\n",
    "# Using TwitterSearchScraper to scrape data and append tweets to list\n",
    "for i,tweet in enumerate(sntwitter.TwitterSearchScraper('from:RTErdogan').get_items()): #declare a username \n",
    "    if i>1000: #number of tweets you want to scrape\n",
    "        break\n",
    "    tweets_list.append([tweet.date, tweet.id, tweet.content,tweet.retweetCount,tweet.likeCount,tweet.replyCount,tweet.quoteCount,tweet.user.username]) #declare the attributes to be returned\n",
    "    \n",
    "# Creating a dataframe from the tweets list above \n",
    "tweets_df_rte = pd.DataFrame(tweets_list, columns=['Datetime', 'Tweet Id','Text','RetweetCount','LikeCount','ReplyCount','QutoteCount','Username'])"
   ]
  },
  {
   "cell_type": "code",
   "execution_count": 12,
   "id": "d611d70e-f34c-4bb6-9b25-9e47b34fd70d",
   "metadata": {},
   "outputs": [
    {
     "data": {
      "text/html": [
       "<div>\n",
       "<style scoped>\n",
       "    .dataframe tbody tr th:only-of-type {\n",
       "        vertical-align: middle;\n",
       "    }\n",
       "\n",
       "    .dataframe tbody tr th {\n",
       "        vertical-align: top;\n",
       "    }\n",
       "\n",
       "    .dataframe thead th {\n",
       "        text-align: right;\n",
       "    }\n",
       "</style>\n",
       "<table border=\"1\" class=\"dataframe\">\n",
       "  <thead>\n",
       "    <tr style=\"text-align: right;\">\n",
       "      <th></th>\n",
       "      <th>Datetime</th>\n",
       "      <th>Tweet Id</th>\n",
       "      <th>Text</th>\n",
       "      <th>RetweetCount</th>\n",
       "      <th>LikeCount</th>\n",
       "      <th>ReplyCount</th>\n",
       "      <th>QutoteCount</th>\n",
       "      <th>Username</th>\n",
       "    </tr>\n",
       "  </thead>\n",
       "  <tbody>\n",
       "    <tr>\n",
       "      <th>0</th>\n",
       "      <td>2022-12-03 17:47:14+00:00</td>\n",
       "      <td>1599097944266809344</td>\n",
       "      <td>2022’de hasat edilen pamuk ve ayçiçeği ürünler...</td>\n",
       "      <td>4374</td>\n",
       "      <td>13835</td>\n",
       "      <td>938</td>\n",
       "      <td>24</td>\n",
       "      <td>RTErdogan</td>\n",
       "    </tr>\n",
       "    <tr>\n",
       "      <th>1</th>\n",
       "      <td>2022-12-03 15:33:57+00:00</td>\n",
       "      <td>1599064404896542720</td>\n",
       "      <td>AK Parti Şanlıurfa Genişletilmiş İl Danışması ...</td>\n",
       "      <td>4909</td>\n",
       "      <td>15660</td>\n",
       "      <td>1480</td>\n",
       "      <td>50</td>\n",
       "      <td>RTErdogan</td>\n",
       "    </tr>\n",
       "    <tr>\n",
       "      <th>2</th>\n",
       "      <td>2022-12-03 15:25:00+00:00</td>\n",
       "      <td>1599062149552300034</td>\n",
       "      <td>Bereketli hilalin merkezi Şanlıurfa’nın verimi...</td>\n",
       "      <td>5036</td>\n",
       "      <td>16023</td>\n",
       "      <td>36633</td>\n",
       "      <td>35</td>\n",
       "      <td>RTErdogan</td>\n",
       "    </tr>\n",
       "    <tr>\n",
       "      <th>3</th>\n",
       "      <td>2022-12-03 15:10:00+00:00</td>\n",
       "      <td>1599058374750085124</td>\n",
       "      <td>Şanlıurfa’nın son 20 yılda her talebine, her b...</td>\n",
       "      <td>4712</td>\n",
       "      <td>15937</td>\n",
       "      <td>856</td>\n",
       "      <td>28</td>\n",
       "      <td>RTErdogan</td>\n",
       "    </tr>\n",
       "    <tr>\n",
       "      <th>4</th>\n",
       "      <td>2022-12-03 14:55:09+00:00</td>\n",
       "      <td>1599054637910282241</td>\n",
       "      <td>Bugün Şanlıurfa’da resmî açılışını yaptığımız,...</td>\n",
       "      <td>4476</td>\n",
       "      <td>14137</td>\n",
       "      <td>298</td>\n",
       "      <td>30</td>\n",
       "      <td>RTErdogan</td>\n",
       "    </tr>\n",
       "    <tr>\n",
       "      <th>...</th>\n",
       "      <td>...</td>\n",
       "      <td>...</td>\n",
       "      <td>...</td>\n",
       "      <td>...</td>\n",
       "      <td>...</td>\n",
       "      <td>...</td>\n",
       "      <td>...</td>\n",
       "      <td>...</td>\n",
       "    </tr>\n",
       "    <tr>\n",
       "      <th>996</th>\n",
       "      <td>2022-06-09 13:58:09+00:00</td>\n",
       "      <td>1534897641221509120</td>\n",
       "      <td>Kılıçdaroğlu… \\n\\nCesaretin varsa, sen de kend...</td>\n",
       "      <td>8395</td>\n",
       "      <td>28563</td>\n",
       "      <td>2010</td>\n",
       "      <td>454</td>\n",
       "      <td>RTErdogan</td>\n",
       "    </tr>\n",
       "    <tr>\n",
       "      <th>997</th>\n",
       "      <td>2022-06-09 13:56:05+00:00</td>\n",
       "      <td>1534897121253642240</td>\n",
       "      <td>Kılıçdaroğlu… \\n\\nArtık kaçak güreşmeyi bırak....</td>\n",
       "      <td>6551</td>\n",
       "      <td>23982</td>\n",
       "      <td>434</td>\n",
       "      <td>92</td>\n",
       "      <td>RTErdogan</td>\n",
       "    </tr>\n",
       "    <tr>\n",
       "      <th>998</th>\n",
       "      <td>2022-06-09 13:54:14+00:00</td>\n",
       "      <td>1534896656017129474</td>\n",
       "      <td>Seçim meydanında karşımıza kimin çıkacağının b...</td>\n",
       "      <td>5930</td>\n",
       "      <td>21129</td>\n",
       "      <td>445</td>\n",
       "      <td>109</td>\n",
       "      <td>RTErdogan</td>\n",
       "    </tr>\n",
       "    <tr>\n",
       "      <th>999</th>\n",
       "      <td>2022-06-09 13:52:05+00:00</td>\n",
       "      <td>1534896115392315392</td>\n",
       "      <td>Ha bire “seçim tarihi belli olsun” diyor. İşte...</td>\n",
       "      <td>9019</td>\n",
       "      <td>32776</td>\n",
       "      <td>2298</td>\n",
       "      <td>692</td>\n",
       "      <td>RTErdogan</td>\n",
       "    </tr>\n",
       "    <tr>\n",
       "      <th>1000</th>\n",
       "      <td>2022-06-09 13:50:05+00:00</td>\n",
       "      <td>1534895611199234049</td>\n",
       "      <td>Kılıçdaroğlu sorduğumuz sorulara, yaptığımız ç...</td>\n",
       "      <td>8634</td>\n",
       "      <td>36266</td>\n",
       "      <td>1871</td>\n",
       "      <td>169</td>\n",
       "      <td>RTErdogan</td>\n",
       "    </tr>\n",
       "  </tbody>\n",
       "</table>\n",
       "<p>1001 rows × 8 columns</p>\n",
       "</div>"
      ],
      "text/plain": [
       "                      Datetime             Tweet Id  \\\n",
       "0    2022-12-03 17:47:14+00:00  1599097944266809344   \n",
       "1    2022-12-03 15:33:57+00:00  1599064404896542720   \n",
       "2    2022-12-03 15:25:00+00:00  1599062149552300034   \n",
       "3    2022-12-03 15:10:00+00:00  1599058374750085124   \n",
       "4    2022-12-03 14:55:09+00:00  1599054637910282241   \n",
       "...                        ...                  ...   \n",
       "996  2022-06-09 13:58:09+00:00  1534897641221509120   \n",
       "997  2022-06-09 13:56:05+00:00  1534897121253642240   \n",
       "998  2022-06-09 13:54:14+00:00  1534896656017129474   \n",
       "999  2022-06-09 13:52:05+00:00  1534896115392315392   \n",
       "1000 2022-06-09 13:50:05+00:00  1534895611199234049   \n",
       "\n",
       "                                                   Text  RetweetCount  \\\n",
       "0     2022’de hasat edilen pamuk ve ayçiçeği ürünler...          4374   \n",
       "1     AK Parti Şanlıurfa Genişletilmiş İl Danışması ...          4909   \n",
       "2     Bereketli hilalin merkezi Şanlıurfa’nın verimi...          5036   \n",
       "3     Şanlıurfa’nın son 20 yılda her talebine, her b...          4712   \n",
       "4     Bugün Şanlıurfa’da resmî açılışını yaptığımız,...          4476   \n",
       "...                                                 ...           ...   \n",
       "996   Kılıçdaroğlu… \\n\\nCesaretin varsa, sen de kend...          8395   \n",
       "997   Kılıçdaroğlu… \\n\\nArtık kaçak güreşmeyi bırak....          6551   \n",
       "998   Seçim meydanında karşımıza kimin çıkacağının b...          5930   \n",
       "999   Ha bire “seçim tarihi belli olsun” diyor. İşte...          9019   \n",
       "1000  Kılıçdaroğlu sorduğumuz sorulara, yaptığımız ç...          8634   \n",
       "\n",
       "      LikeCount  ReplyCount  QutoteCount   Username  \n",
       "0         13835         938           24  RTErdogan  \n",
       "1         15660        1480           50  RTErdogan  \n",
       "2         16023       36633           35  RTErdogan  \n",
       "3         15937         856           28  RTErdogan  \n",
       "4         14137         298           30  RTErdogan  \n",
       "...         ...         ...          ...        ...  \n",
       "996       28563        2010          454  RTErdogan  \n",
       "997       23982         434           92  RTErdogan  \n",
       "998       21129         445          109  RTErdogan  \n",
       "999       32776        2298          692  RTErdogan  \n",
       "1000      36266        1871          169  RTErdogan  \n",
       "\n",
       "[1001 rows x 8 columns]"
      ]
     },
     "execution_count": 12,
     "metadata": {},
     "output_type": "execute_result"
    }
   ],
   "source": [
    "tweets_df_rte"
   ]
  },
  {
   "cell_type": "markdown",
   "id": "e507f383-bfe4-456a-885f-b27ecb32db41",
   "metadata": {},
   "source": [
    "Below, I looked at the descriptive statistics values of the tweets I received from Kemal Kılıçdaroğlu and Tayyip Erdoğan. In general, the like, retweet, quote and reply numbers of their tweets were similar. Some of their tweets came out with more likes, quotes, retweets or replies than usual. That's why all these properties have a left-skewed distribution."
   ]
  },
  {
   "cell_type": "code",
   "execution_count": 13,
   "id": "300efa89-aa9b-4a8b-b852-6bf3db653f29",
   "metadata": {},
   "outputs": [
    {
     "data": {
      "text/html": [
       "<div>\n",
       "<style scoped>\n",
       "    .dataframe tbody tr th:only-of-type {\n",
       "        vertical-align: middle;\n",
       "    }\n",
       "\n",
       "    .dataframe tbody tr th {\n",
       "        vertical-align: top;\n",
       "    }\n",
       "\n",
       "    .dataframe thead th {\n",
       "        text-align: right;\n",
       "    }\n",
       "</style>\n",
       "<table border=\"1\" class=\"dataframe\">\n",
       "  <thead>\n",
       "    <tr style=\"text-align: right;\">\n",
       "      <th></th>\n",
       "      <th>Tweet Id</th>\n",
       "      <th>RetweetCount</th>\n",
       "      <th>LikeCount</th>\n",
       "      <th>ReplyCount</th>\n",
       "      <th>QuoeCount</th>\n",
       "    </tr>\n",
       "  </thead>\n",
       "  <tbody>\n",
       "    <tr>\n",
       "      <th>count</th>\n",
       "      <td>1.001000e+03</td>\n",
       "      <td>1001.000000</td>\n",
       "      <td>1001.000000</td>\n",
       "      <td>1001.000000</td>\n",
       "      <td>1001.000000</td>\n",
       "    </tr>\n",
       "    <tr>\n",
       "      <th>mean</th>\n",
       "      <td>1.522127e+18</td>\n",
       "      <td>2712.310689</td>\n",
       "      <td>24275.550450</td>\n",
       "      <td>1673.479520</td>\n",
       "      <td>311.913087</td>\n",
       "    </tr>\n",
       "    <tr>\n",
       "      <th>std</th>\n",
       "      <td>4.855780e+16</td>\n",
       "      <td>2905.908045</td>\n",
       "      <td>23346.120583</td>\n",
       "      <td>2051.871975</td>\n",
       "      <td>640.328781</td>\n",
       "    </tr>\n",
       "    <tr>\n",
       "      <th>min</th>\n",
       "      <td>1.435879e+18</td>\n",
       "      <td>192.000000</td>\n",
       "      <td>1634.000000</td>\n",
       "      <td>17.000000</td>\n",
       "      <td>2.000000</td>\n",
       "    </tr>\n",
       "    <tr>\n",
       "      <th>25%</th>\n",
       "      <td>1.476282e+18</td>\n",
       "      <td>986.000000</td>\n",
       "      <td>8894.000000</td>\n",
       "      <td>474.000000</td>\n",
       "      <td>40.000000</td>\n",
       "    </tr>\n",
       "    <tr>\n",
       "      <th>50%</th>\n",
       "      <td>1.528118e+18</td>\n",
       "      <td>1765.000000</td>\n",
       "      <td>17729.000000</td>\n",
       "      <td>951.000000</td>\n",
       "      <td>103.000000</td>\n",
       "    </tr>\n",
       "    <tr>\n",
       "      <th>75%</th>\n",
       "      <td>1.567838e+18</td>\n",
       "      <td>3240.000000</td>\n",
       "      <td>29740.000000</td>\n",
       "      <td>2057.000000</td>\n",
       "      <td>313.000000</td>\n",
       "    </tr>\n",
       "    <tr>\n",
       "      <th>max</th>\n",
       "      <td>1.599135e+18</td>\n",
       "      <td>28693.000000</td>\n",
       "      <td>198599.000000</td>\n",
       "      <td>19850.000000</td>\n",
       "      <td>6703.000000</td>\n",
       "    </tr>\n",
       "  </tbody>\n",
       "</table>\n",
       "</div>"
      ],
      "text/plain": [
       "           Tweet Id  RetweetCount      LikeCount    ReplyCount    QuoeCount\n",
       "count  1.001000e+03   1001.000000    1001.000000   1001.000000  1001.000000\n",
       "mean   1.522127e+18   2712.310689   24275.550450   1673.479520   311.913087\n",
       "std    4.855780e+16   2905.908045   23346.120583   2051.871975   640.328781\n",
       "min    1.435879e+18    192.000000    1634.000000     17.000000     2.000000\n",
       "25%    1.476282e+18    986.000000    8894.000000    474.000000    40.000000\n",
       "50%    1.528118e+18   1765.000000   17729.000000    951.000000   103.000000\n",
       "75%    1.567838e+18   3240.000000   29740.000000   2057.000000   313.000000\n",
       "max    1.599135e+18  28693.000000  198599.000000  19850.000000  6703.000000"
      ]
     },
     "execution_count": 13,
     "metadata": {},
     "output_type": "execute_result"
    }
   ],
   "source": [
    "tweets_df_kk.describe()"
   ]
  },
  {
   "cell_type": "code",
   "execution_count": 14,
   "id": "0bcfa29d-5afc-40e4-8a8f-0e7f1c6588ce",
   "metadata": {},
   "outputs": [
    {
     "data": {
      "text/html": [
       "<div>\n",
       "<style scoped>\n",
       "    .dataframe tbody tr th:only-of-type {\n",
       "        vertical-align: middle;\n",
       "    }\n",
       "\n",
       "    .dataframe tbody tr th {\n",
       "        vertical-align: top;\n",
       "    }\n",
       "\n",
       "    .dataframe thead th {\n",
       "        text-align: right;\n",
       "    }\n",
       "</style>\n",
       "<table border=\"1\" class=\"dataframe\">\n",
       "  <thead>\n",
       "    <tr style=\"text-align: right;\">\n",
       "      <th></th>\n",
       "      <th>Tweet Id</th>\n",
       "      <th>RetweetCount</th>\n",
       "      <th>LikeCount</th>\n",
       "      <th>ReplyCount</th>\n",
       "      <th>QutoteCount</th>\n",
       "    </tr>\n",
       "  </thead>\n",
       "  <tbody>\n",
       "    <tr>\n",
       "      <th>count</th>\n",
       "      <td>1.001000e+03</td>\n",
       "      <td>1001.000000</td>\n",
       "      <td>1001.000000</td>\n",
       "      <td>1001.000000</td>\n",
       "      <td>1001.000000</td>\n",
       "    </tr>\n",
       "    <tr>\n",
       "      <th>mean</th>\n",
       "      <td>1.570215e+18</td>\n",
       "      <td>5756.871129</td>\n",
       "      <td>19372.486513</td>\n",
       "      <td>1181.575425</td>\n",
       "      <td>89.326673</td>\n",
       "    </tr>\n",
       "    <tr>\n",
       "      <th>std</th>\n",
       "      <td>1.755107e+16</td>\n",
       "      <td>2409.936141</td>\n",
       "      <td>10218.436000</td>\n",
       "      <td>2302.861110</td>\n",
       "      <td>296.184990</td>\n",
       "    </tr>\n",
       "    <tr>\n",
       "      <th>min</th>\n",
       "      <td>1.534896e+18</td>\n",
       "      <td>1751.000000</td>\n",
       "      <td>5083.000000</td>\n",
       "      <td>49.000000</td>\n",
       "      <td>2.000000</td>\n",
       "    </tr>\n",
       "    <tr>\n",
       "      <th>25%</th>\n",
       "      <td>1.558537e+18</td>\n",
       "      <td>4374.000000</td>\n",
       "      <td>13575.000000</td>\n",
       "      <td>318.000000</td>\n",
       "      <td>23.000000</td>\n",
       "    </tr>\n",
       "    <tr>\n",
       "      <th>50%</th>\n",
       "      <td>1.572266e+18</td>\n",
       "      <td>5376.000000</td>\n",
       "      <td>17170.000000</td>\n",
       "      <td>587.000000</td>\n",
       "      <td>43.000000</td>\n",
       "    </tr>\n",
       "    <tr>\n",
       "      <th>75%</th>\n",
       "      <td>1.584179e+18</td>\n",
       "      <td>6592.000000</td>\n",
       "      <td>21676.000000</td>\n",
       "      <td>1078.000000</td>\n",
       "      <td>81.000000</td>\n",
       "    </tr>\n",
       "    <tr>\n",
       "      <th>max</th>\n",
       "      <td>1.599098e+18</td>\n",
       "      <td>26434.000000</td>\n",
       "      <td>115459.000000</td>\n",
       "      <td>36633.000000</td>\n",
       "      <td>8309.000000</td>\n",
       "    </tr>\n",
       "  </tbody>\n",
       "</table>\n",
       "</div>"
      ],
      "text/plain": [
       "           Tweet Id  RetweetCount      LikeCount    ReplyCount  QutoteCount\n",
       "count  1.001000e+03   1001.000000    1001.000000   1001.000000  1001.000000\n",
       "mean   1.570215e+18   5756.871129   19372.486513   1181.575425    89.326673\n",
       "std    1.755107e+16   2409.936141   10218.436000   2302.861110   296.184990\n",
       "min    1.534896e+18   1751.000000    5083.000000     49.000000     2.000000\n",
       "25%    1.558537e+18   4374.000000   13575.000000    318.000000    23.000000\n",
       "50%    1.572266e+18   5376.000000   17170.000000    587.000000    43.000000\n",
       "75%    1.584179e+18   6592.000000   21676.000000   1078.000000    81.000000\n",
       "max    1.599098e+18  26434.000000  115459.000000  36633.000000  8309.000000"
      ]
     },
     "execution_count": 14,
     "metadata": {},
     "output_type": "execute_result"
    }
   ],
   "source": [
    "tweets_df_rte.describe()"
   ]
  },
  {
   "cell_type": "markdown",
   "id": "cc40dae3-d1f6-4656-a908-1e44c0d236c1",
   "metadata": {},
   "source": [
    "I used some preprocessing techniques below. I lower all the letters of the tweets I received. I deleted some special characters and deleted the links. Since I do not do sentiment analysis, I do not need to do much preprocessing."
   ]
  },
  {
   "cell_type": "code",
   "execution_count": 15,
   "id": "e2c46f85-5048-4881-bbe4-01daa2991af8",
   "metadata": {},
   "outputs": [],
   "source": [
    "tweets_df_kk[\"Text\"] = tweets_df_kk[\"Text\"].apply(lambda x: \" \".join(x.lower() for x in x.split()))\n",
    "tweets_df_rte[\"Text\"] = tweets_df_rte[\"Text\"].apply(lambda x: \" \".join(x.lower() for x in x.split()))"
   ]
  },
  {
   "cell_type": "code",
   "execution_count": 16,
   "id": "cc7fe493-07fb-484c-a38b-27d994c9a146",
   "metadata": {},
   "outputs": [
    {
     "name": "stderr",
     "output_type": "stream",
     "text": [
      "C:\\Users\\90535\\AppData\\Local\\Temp\\ipykernel_18768\\1065147865.py:1: FutureWarning: The default value of regex will change from True to False in a future version.\n",
      "  tweets_df_kk[\"Text\"] = tweets_df_kk[\"Text\"].str.replace('(@\\w+.*?)',\"\")\n",
      "C:\\Users\\90535\\AppData\\Local\\Temp\\ipykernel_18768\\1065147865.py:2: FutureWarning: The default value of regex will change from True to False in a future version.\n",
      "  tweets_df_rte[\"Text\"]  = tweets_df_rte[\"Text\"] .str.replace('(@\\w+.*?)',\"\")\n"
     ]
    }
   ],
   "source": [
    "tweets_df_kk[\"Text\"] = tweets_df_kk[\"Text\"].str.replace('(@\\w+.*?)',\"\")\n",
    "tweets_df_rte[\"Text\"]  = tweets_df_rte[\"Text\"] .str.replace('(@\\w+.*?)',\"\")"
   ]
  },
  {
   "cell_type": "code",
   "execution_count": 17,
   "id": "64724f64-3f3b-4900-9bdb-abd987d2aa11",
   "metadata": {},
   "outputs": [],
   "source": [
    "import re "
   ]
  },
  {
   "cell_type": "code",
   "execution_count": 17,
   "id": "8bb812e5-8593-4f92-a43b-928c48f8c56f",
   "metadata": {},
   "outputs": [],
   "source": [
    "tweets_df_kk[\"Text\"] = tweets_df_kk[\"Text\"].apply(lambda x: re.sub(r'https?://[^\\s\\n\\r]+', '', x))\n",
    "tweets_df_rte[\"Text\"] = tweets_df_rte[\"Text\"].apply(lambda x: re.sub(r'https?://[^\\s\\n\\r]+', '', x))"
   ]
  },
  {
   "cell_type": "markdown",
   "id": "9fe3ea33-71f7-4702-8dd0-fffd3cb036eb",
   "metadata": {},
   "source": [
    "Below, I examined the tweets of these two accounts on two main topics. I filtered tweets containing words under the subject of economy and tweets containing words under the subject of terrorism. I examined the tweets of these two accounts under these two topics."
   ]
  },
  {
   "cell_type": "code",
   "execution_count": 18,
   "id": "eee95053-c412-45c4-b216-5c4fbf828b82",
   "metadata": {},
   "outputs": [
    {
     "data": {
      "text/html": [
       "<div>\n",
       "<style scoped>\n",
       "    .dataframe tbody tr th:only-of-type {\n",
       "        vertical-align: middle;\n",
       "    }\n",
       "\n",
       "    .dataframe tbody tr th {\n",
       "        vertical-align: top;\n",
       "    }\n",
       "\n",
       "    .dataframe thead th {\n",
       "        text-align: right;\n",
       "    }\n",
       "</style>\n",
       "<table border=\"1\" class=\"dataframe\">\n",
       "  <thead>\n",
       "    <tr style=\"text-align: right;\">\n",
       "      <th></th>\n",
       "      <th>Tweet Id</th>\n",
       "      <th>RetweetCount</th>\n",
       "      <th>LikeCount</th>\n",
       "      <th>ReplyCount</th>\n",
       "      <th>QuoeCount</th>\n",
       "    </tr>\n",
       "  </thead>\n",
       "  <tbody>\n",
       "    <tr>\n",
       "      <th>count</th>\n",
       "      <td>1.940000e+02</td>\n",
       "      <td>194.000000</td>\n",
       "      <td>194.000000</td>\n",
       "      <td>194.000000</td>\n",
       "      <td>194.000000</td>\n",
       "    </tr>\n",
       "    <tr>\n",
       "      <th>mean</th>\n",
       "      <td>1.526668e+18</td>\n",
       "      <td>2293.242268</td>\n",
       "      <td>22773.938144</td>\n",
       "      <td>1436.618557</td>\n",
       "      <td>244.984536</td>\n",
       "    </tr>\n",
       "    <tr>\n",
       "      <th>std</th>\n",
       "      <td>4.651338e+16</td>\n",
       "      <td>2227.870043</td>\n",
       "      <td>16450.999799</td>\n",
       "      <td>1595.422230</td>\n",
       "      <td>427.696257</td>\n",
       "    </tr>\n",
       "    <tr>\n",
       "      <th>min</th>\n",
       "      <td>1.436633e+18</td>\n",
       "      <td>461.000000</td>\n",
       "      <td>4931.000000</td>\n",
       "      <td>87.000000</td>\n",
       "      <td>6.000000</td>\n",
       "    </tr>\n",
       "    <tr>\n",
       "      <th>25%</th>\n",
       "      <td>1.480107e+18</td>\n",
       "      <td>873.250000</td>\n",
       "      <td>11173.250000</td>\n",
       "      <td>468.750000</td>\n",
       "      <td>41.250000</td>\n",
       "    </tr>\n",
       "    <tr>\n",
       "      <th>50%</th>\n",
       "      <td>1.533788e+18</td>\n",
       "      <td>1497.000000</td>\n",
       "      <td>17718.500000</td>\n",
       "      <td>805.000000</td>\n",
       "      <td>88.500000</td>\n",
       "    </tr>\n",
       "    <tr>\n",
       "      <th>75%</th>\n",
       "      <td>1.567567e+18</td>\n",
       "      <td>2585.750000</td>\n",
       "      <td>28042.000000</td>\n",
       "      <td>1694.750000</td>\n",
       "      <td>248.500000</td>\n",
       "    </tr>\n",
       "    <tr>\n",
       "      <th>max</th>\n",
       "      <td>1.596768e+18</td>\n",
       "      <td>13081.000000</td>\n",
       "      <td>103530.000000</td>\n",
       "      <td>10297.000000</td>\n",
       "      <td>3575.000000</td>\n",
       "    </tr>\n",
       "  </tbody>\n",
       "</table>\n",
       "</div>"
      ],
      "text/plain": [
       "           Tweet Id  RetweetCount      LikeCount    ReplyCount    QuoeCount\n",
       "count  1.940000e+02    194.000000     194.000000    194.000000   194.000000\n",
       "mean   1.526668e+18   2293.242268   22773.938144   1436.618557   244.984536\n",
       "std    4.651338e+16   2227.870043   16450.999799   1595.422230   427.696257\n",
       "min    1.436633e+18    461.000000    4931.000000     87.000000     6.000000\n",
       "25%    1.480107e+18    873.250000   11173.250000    468.750000    41.250000\n",
       "50%    1.533788e+18   1497.000000   17718.500000    805.000000    88.500000\n",
       "75%    1.567567e+18   2585.750000   28042.000000   1694.750000   248.500000\n",
       "max    1.596768e+18  13081.000000  103530.000000  10297.000000  3575.000000"
      ]
     },
     "execution_count": 18,
     "metadata": {},
     "output_type": "execute_result"
    }
   ],
   "source": [
    "tweets_df_kk[tweets_df_kk[\"Text\"].str.contains(\"terör|şehit|başsağlığı|harekat|savaş|rahmetli|operasyon|acı|asker|hain|PKK|PYD|FETÖ|YPG|güvenlik\")].describe()"
   ]
  },
  {
   "cell_type": "code",
   "execution_count": 19,
   "id": "683214f9-3322-4941-8c08-e85a60fb256e",
   "metadata": {},
   "outputs": [
    {
     "data": {
      "text/html": [
       "<div>\n",
       "<style scoped>\n",
       "    .dataframe tbody tr th:only-of-type {\n",
       "        vertical-align: middle;\n",
       "    }\n",
       "\n",
       "    .dataframe tbody tr th {\n",
       "        vertical-align: top;\n",
       "    }\n",
       "\n",
       "    .dataframe thead th {\n",
       "        text-align: right;\n",
       "    }\n",
       "</style>\n",
       "<table border=\"1\" class=\"dataframe\">\n",
       "  <thead>\n",
       "    <tr style=\"text-align: right;\">\n",
       "      <th></th>\n",
       "      <th>Tweet Id</th>\n",
       "      <th>RetweetCount</th>\n",
       "      <th>LikeCount</th>\n",
       "      <th>ReplyCount</th>\n",
       "      <th>QutoteCount</th>\n",
       "    </tr>\n",
       "  </thead>\n",
       "  <tbody>\n",
       "    <tr>\n",
       "      <th>count</th>\n",
       "      <td>1.140000e+02</td>\n",
       "      <td>114.000000</td>\n",
       "      <td>114.000000</td>\n",
       "      <td>114.000000</td>\n",
       "      <td>114.000000</td>\n",
       "    </tr>\n",
       "    <tr>\n",
       "      <th>mean</th>\n",
       "      <td>1.567970e+18</td>\n",
       "      <td>5537.728070</td>\n",
       "      <td>19156.175439</td>\n",
       "      <td>836.456140</td>\n",
       "      <td>54.982456</td>\n",
       "    </tr>\n",
       "    <tr>\n",
       "      <th>std</th>\n",
       "      <td>1.815835e+16</td>\n",
       "      <td>1952.021273</td>\n",
       "      <td>8160.929088</td>\n",
       "      <td>1432.196593</td>\n",
       "      <td>66.610608</td>\n",
       "    </tr>\n",
       "    <tr>\n",
       "      <th>min</th>\n",
       "      <td>1.534968e+18</td>\n",
       "      <td>2640.000000</td>\n",
       "      <td>7601.000000</td>\n",
       "      <td>75.000000</td>\n",
       "      <td>3.000000</td>\n",
       "    </tr>\n",
       "    <tr>\n",
       "      <th>25%</th>\n",
       "      <td>1.554401e+18</td>\n",
       "      <td>4358.500000</td>\n",
       "      <td>13582.000000</td>\n",
       "      <td>216.000000</td>\n",
       "      <td>16.250000</td>\n",
       "    </tr>\n",
       "    <tr>\n",
       "      <th>50%</th>\n",
       "      <td>1.568408e+18</td>\n",
       "      <td>5120.000000</td>\n",
       "      <td>17320.500000</td>\n",
       "      <td>564.500000</td>\n",
       "      <td>36.000000</td>\n",
       "    </tr>\n",
       "    <tr>\n",
       "      <th>75%</th>\n",
       "      <td>1.581267e+18</td>\n",
       "      <td>6580.750000</td>\n",
       "      <td>22280.000000</td>\n",
       "      <td>852.250000</td>\n",
       "      <td>64.750000</td>\n",
       "    </tr>\n",
       "    <tr>\n",
       "      <th>max</th>\n",
       "      <td>1.598347e+18</td>\n",
       "      <td>15829.000000</td>\n",
       "      <td>43161.000000</td>\n",
       "      <td>12317.000000</td>\n",
       "      <td>417.000000</td>\n",
       "    </tr>\n",
       "  </tbody>\n",
       "</table>\n",
       "</div>"
      ],
      "text/plain": [
       "           Tweet Id  RetweetCount     LikeCount    ReplyCount  QutoteCount\n",
       "count  1.140000e+02    114.000000    114.000000    114.000000   114.000000\n",
       "mean   1.567970e+18   5537.728070  19156.175439    836.456140    54.982456\n",
       "std    1.815835e+16   1952.021273   8160.929088   1432.196593    66.610608\n",
       "min    1.534968e+18   2640.000000   7601.000000     75.000000     3.000000\n",
       "25%    1.554401e+18   4358.500000  13582.000000    216.000000    16.250000\n",
       "50%    1.568408e+18   5120.000000  17320.500000    564.500000    36.000000\n",
       "75%    1.581267e+18   6580.750000  22280.000000    852.250000    64.750000\n",
       "max    1.598347e+18  15829.000000  43161.000000  12317.000000   417.000000"
      ]
     },
     "execution_count": 19,
     "metadata": {},
     "output_type": "execute_result"
    }
   ],
   "source": [
    "tweets_df_rte[tweets_df_rte[\"Text\"].str.contains(\"terör|şehit|başsağlığı|harekat|savaş|rahmetli|operasyon|acı|asker|hain|PKK|PYD|FETÖ|YPG|güvenlik\")].describe()"
   ]
  },
  {
   "cell_type": "code",
   "execution_count": 20,
   "id": "6e58c35a-d897-4409-912e-c6949769071f",
   "metadata": {},
   "outputs": [
    {
     "data": {
      "text/html": [
       "<div>\n",
       "<style scoped>\n",
       "    .dataframe tbody tr th:only-of-type {\n",
       "        vertical-align: middle;\n",
       "    }\n",
       "\n",
       "    .dataframe tbody tr th {\n",
       "        vertical-align: top;\n",
       "    }\n",
       "\n",
       "    .dataframe thead th {\n",
       "        text-align: right;\n",
       "    }\n",
       "</style>\n",
       "<table border=\"1\" class=\"dataframe\">\n",
       "  <thead>\n",
       "    <tr style=\"text-align: right;\">\n",
       "      <th></th>\n",
       "      <th>Tweet Id</th>\n",
       "      <th>RetweetCount</th>\n",
       "      <th>LikeCount</th>\n",
       "      <th>ReplyCount</th>\n",
       "      <th>QuoeCount</th>\n",
       "    </tr>\n",
       "  </thead>\n",
       "  <tbody>\n",
       "    <tr>\n",
       "      <th>count</th>\n",
       "      <td>1.370000e+02</td>\n",
       "      <td>137.000000</td>\n",
       "      <td>137.000000</td>\n",
       "      <td>137.000000</td>\n",
       "      <td>137.000000</td>\n",
       "    </tr>\n",
       "    <tr>\n",
       "      <th>mean</th>\n",
       "      <td>1.527802e+18</td>\n",
       "      <td>3950.883212</td>\n",
       "      <td>33252.452555</td>\n",
       "      <td>2200.766423</td>\n",
       "      <td>480.605839</td>\n",
       "    </tr>\n",
       "    <tr>\n",
       "      <th>std</th>\n",
       "      <td>5.136628e+16</td>\n",
       "      <td>3598.903399</td>\n",
       "      <td>28839.284741</td>\n",
       "      <td>2548.589876</td>\n",
       "      <td>995.997773</td>\n",
       "    </tr>\n",
       "    <tr>\n",
       "      <th>min</th>\n",
       "      <td>1.436733e+18</td>\n",
       "      <td>602.000000</td>\n",
       "      <td>4908.000000</td>\n",
       "      <td>116.000000</td>\n",
       "      <td>14.000000</td>\n",
       "    </tr>\n",
       "    <tr>\n",
       "      <th>25%</th>\n",
       "      <td>1.477581e+18</td>\n",
       "      <td>1819.000000</td>\n",
       "      <td>16928.000000</td>\n",
       "      <td>546.000000</td>\n",
       "      <td>78.000000</td>\n",
       "    </tr>\n",
       "    <tr>\n",
       "      <th>50%</th>\n",
       "      <td>1.538248e+18</td>\n",
       "      <td>2715.000000</td>\n",
       "      <td>24854.000000</td>\n",
       "      <td>1404.000000</td>\n",
       "      <td>189.000000</td>\n",
       "    </tr>\n",
       "    <tr>\n",
       "      <th>75%</th>\n",
       "      <td>1.571751e+18</td>\n",
       "      <td>4662.000000</td>\n",
       "      <td>39975.000000</td>\n",
       "      <td>2988.000000</td>\n",
       "      <td>409.000000</td>\n",
       "    </tr>\n",
       "    <tr>\n",
       "      <th>max</th>\n",
       "      <td>1.599135e+18</td>\n",
       "      <td>25603.000000</td>\n",
       "      <td>198599.000000</td>\n",
       "      <td>18072.000000</td>\n",
       "      <td>6703.000000</td>\n",
       "    </tr>\n",
       "  </tbody>\n",
       "</table>\n",
       "</div>"
      ],
      "text/plain": [
       "           Tweet Id  RetweetCount      LikeCount    ReplyCount    QuoeCount\n",
       "count  1.370000e+02    137.000000     137.000000    137.000000   137.000000\n",
       "mean   1.527802e+18   3950.883212   33252.452555   2200.766423   480.605839\n",
       "std    5.136628e+16   3598.903399   28839.284741   2548.589876   995.997773\n",
       "min    1.436733e+18    602.000000    4908.000000    116.000000    14.000000\n",
       "25%    1.477581e+18   1819.000000   16928.000000    546.000000    78.000000\n",
       "50%    1.538248e+18   2715.000000   24854.000000   1404.000000   189.000000\n",
       "75%    1.571751e+18   4662.000000   39975.000000   2988.000000   409.000000\n",
       "max    1.599135e+18  25603.000000  198599.000000  18072.000000  6703.000000"
      ]
     },
     "execution_count": 20,
     "metadata": {},
     "output_type": "execute_result"
    }
   ],
   "source": [
    "tweets_df_kk[tweets_df_kk[\"Text\"].str.contains(\"ekonomi|zam|vergi|enflasyon|ücret|rahmetli|maaş|asgari|pahalı|para|faiz|üretim|piyasa|borsa\")].describe()"
   ]
  },
  {
   "cell_type": "code",
   "execution_count": 21,
   "id": "ff6214c2-0f99-4eee-be1e-e17582b486ed",
   "metadata": {},
   "outputs": [
    {
     "data": {
      "text/html": [
       "<div>\n",
       "<style scoped>\n",
       "    .dataframe tbody tr th:only-of-type {\n",
       "        vertical-align: middle;\n",
       "    }\n",
       "\n",
       "    .dataframe tbody tr th {\n",
       "        vertical-align: top;\n",
       "    }\n",
       "\n",
       "    .dataframe thead th {\n",
       "        text-align: right;\n",
       "    }\n",
       "</style>\n",
       "<table border=\"1\" class=\"dataframe\">\n",
       "  <thead>\n",
       "    <tr style=\"text-align: right;\">\n",
       "      <th></th>\n",
       "      <th>Tweet Id</th>\n",
       "      <th>RetweetCount</th>\n",
       "      <th>LikeCount</th>\n",
       "      <th>ReplyCount</th>\n",
       "      <th>QutoteCount</th>\n",
       "    </tr>\n",
       "  </thead>\n",
       "  <tbody>\n",
       "    <tr>\n",
       "      <th>count</th>\n",
       "      <td>1.080000e+02</td>\n",
       "      <td>108.000000</td>\n",
       "      <td>108.000000</td>\n",
       "      <td>108.000000</td>\n",
       "      <td>108.000000</td>\n",
       "    </tr>\n",
       "    <tr>\n",
       "      <th>mean</th>\n",
       "      <td>1.570449e+18</td>\n",
       "      <td>5738.990741</td>\n",
       "      <td>18934.574074</td>\n",
       "      <td>1610.907407</td>\n",
       "      <td>77.287037</td>\n",
       "    </tr>\n",
       "    <tr>\n",
       "      <th>std</th>\n",
       "      <td>1.792101e+16</td>\n",
       "      <td>2196.090088</td>\n",
       "      <td>8347.757643</td>\n",
       "      <td>4129.341407</td>\n",
       "      <td>119.855602</td>\n",
       "    </tr>\n",
       "    <tr>\n",
       "      <th>min</th>\n",
       "      <td>1.534968e+18</td>\n",
       "      <td>2284.000000</td>\n",
       "      <td>6822.000000</td>\n",
       "      <td>74.000000</td>\n",
       "      <td>3.000000</td>\n",
       "    </tr>\n",
       "    <tr>\n",
       "      <th>25%</th>\n",
       "      <td>1.557319e+18</td>\n",
       "      <td>4291.750000</td>\n",
       "      <td>13228.000000</td>\n",
       "      <td>247.750000</td>\n",
       "      <td>20.750000</td>\n",
       "    </tr>\n",
       "    <tr>\n",
       "      <th>50%</th>\n",
       "      <td>1.570090e+18</td>\n",
       "      <td>5471.000000</td>\n",
       "      <td>17274.500000</td>\n",
       "      <td>494.000000</td>\n",
       "      <td>37.000000</td>\n",
       "    </tr>\n",
       "    <tr>\n",
       "      <th>75%</th>\n",
       "      <td>1.586111e+18</td>\n",
       "      <td>6845.000000</td>\n",
       "      <td>22644.750000</td>\n",
       "      <td>1153.750000</td>\n",
       "      <td>69.500000</td>\n",
       "    </tr>\n",
       "    <tr>\n",
       "      <th>max</th>\n",
       "      <td>1.599098e+18</td>\n",
       "      <td>13175.000000</td>\n",
       "      <td>52965.000000</td>\n",
       "      <td>36633.000000</td>\n",
       "      <td>706.000000</td>\n",
       "    </tr>\n",
       "  </tbody>\n",
       "</table>\n",
       "</div>"
      ],
      "text/plain": [
       "           Tweet Id  RetweetCount     LikeCount    ReplyCount  QutoteCount\n",
       "count  1.080000e+02    108.000000    108.000000    108.000000   108.000000\n",
       "mean   1.570449e+18   5738.990741  18934.574074   1610.907407    77.287037\n",
       "std    1.792101e+16   2196.090088   8347.757643   4129.341407   119.855602\n",
       "min    1.534968e+18   2284.000000   6822.000000     74.000000     3.000000\n",
       "25%    1.557319e+18   4291.750000  13228.000000    247.750000    20.750000\n",
       "50%    1.570090e+18   5471.000000  17274.500000    494.000000    37.000000\n",
       "75%    1.586111e+18   6845.000000  22644.750000   1153.750000    69.500000\n",
       "max    1.599098e+18  13175.000000  52965.000000  36633.000000   706.000000"
      ]
     },
     "execution_count": 21,
     "metadata": {},
     "output_type": "execute_result"
    }
   ],
   "source": [
    "tweets_df_rte[tweets_df_rte[\"Text\"].str.contains(\"ekonomi|zam|vergi|enflasyon|ücret|rahmetli|maaş|asgari|pahalı|para|faiz|üretim|piyasa|borsa\")].describe()"
   ]
  },
  {
   "cell_type": "code",
   "execution_count": 22,
   "id": "5f552038-6fde-416c-b6f6-afd8e196cf01",
   "metadata": {},
   "outputs": [
    {
     "name": "stdout",
     "output_type": "stream",
     "text": [
      "Requirement already satisfied: scipy in c:\\users\\90535\\anaconda3\\envs\\homework2\\lib\\site-packages (1.9.3)\n",
      "Requirement already satisfied: numpy<1.26.0,>=1.18.5 in c:\\users\\90535\\anaconda3\\envs\\homework2\\lib\\site-packages (from scipy) (1.23.5)\n"
     ]
    }
   ],
   "source": [
    "!pip install scipy"
   ]
  },
  {
   "cell_type": "code",
   "execution_count": 23,
   "id": "3e72af84-4cde-4963-bb7f-6e3d0e022d8c",
   "metadata": {},
   "outputs": [],
   "source": [
    "from scipy.stats import shapiro, levene, ttest_ind, mannwhitneyu"
   ]
  },
  {
   "cell_type": "markdown",
   "id": "1fc9b053-11b3-48e5-81c6-3a73daf4e1ab",
   "metadata": {},
   "source": [
    "My two research questions were:\n",
    "1)Is there a difference between the number of likes received by these two accounts' normal tweets and the number of likes of their tweets on these two topics?\n",
    "2)Is there a difference between the number of likes received by the tweets of these two accounts under these topics?\n",
    "In other words, I looked at the differences between themselves in the first and among themselves in the second."
   ]
  },
  {
   "cell_type": "markdown",
   "id": "f9fb1247-3b91-4b39-aee9-9f9f47360792",
   "metadata": {},
   "source": [
    "First I used the shapiro test to see if they have a normal distribution."
   ]
  },
  {
   "cell_type": "code",
   "execution_count": 24,
   "id": "344b003e-c79f-490a-b90b-6690d77c3eb0",
   "metadata": {},
   "outputs": [
    {
     "name": "stdout",
     "output_type": "stream",
     "text": [
      "Test Stat = 0.7396, p-value = 0.0000\n"
     ]
    }
   ],
   "source": [
    "test_stat, pvalue = shapiro(tweets_df_kk.loc[~(tweets_df_kk[\"Text\"].str.contains(\"terör|şehit|başsağlığı|harekat|savaş|rahmetli|operasyon|acı|asker|hain|PKK|PYD|FETÖ|YPG|güvenlik\")), \"LikeCount\"])\n",
    "print('Test Stat = %.4f, p-value = %.4f' % (test_stat, pvalue))"
   ]
  },
  {
   "cell_type": "code",
   "execution_count": 25,
   "id": "1472cee0-cd83-4de5-8e42-701f42d2a112",
   "metadata": {},
   "outputs": [
    {
     "name": "stdout",
     "output_type": "stream",
     "text": [
      "Test Stat = 0.8253, p-value = 0.0000\n"
     ]
    }
   ],
   "source": [
    "test_stat, pvalue = shapiro(tweets_df_kk.loc[(tweets_df_kk[\"Text\"].str.contains(\"terör|şehit|başsağlığı|harekat|savaş|rahmetli|operasyon|acı|asker|hain|PKK|PYD|FETÖ|YPG|güvenlik\")), \"LikeCount\"])\n",
    "print('Test Stat = %.4f, p-value = %.4f' % (test_stat, pvalue))"
   ]
  },
  {
   "cell_type": "markdown",
   "id": "8801ef23-79de-4489-8d2d-259b732a17e5",
   "metadata": {},
   "source": [
    "Since the distribution of the number of likes of Kemal Kılıçdaroğlu's tweets, which are related to and not related to terrorism, did not appear to be similar to the normal distribution, I used a Matt Whitneyu test."
   ]
  },
  {
   "cell_type": "code",
   "execution_count": 26,
   "id": "aa65c723-1003-4ecb-9b5d-aa65bb4ae4cb",
   "metadata": {},
   "outputs": [
    {
     "name": "stdout",
     "output_type": "stream",
     "text": [
      "MannwhitneyuResult(statistic=73370.5, pvalue=0.17463841023982318)\n"
     ]
    }
   ],
   "source": [
    "res = mannwhitneyu(tweets_df_kk.loc[~(tweets_df_kk[\"Text\"].str.contains(\"terör|şehit|başsağlığı|harekat|savaş|rahmetli|operasyon|acı|asker|hain|PKK|PYD|FETÖ|YPG|güvenlik\")), \"LikeCount\"], tweets_df_kk.loc[(tweets_df_kk[\"Text\"].str.contains(\"terör|şehit|başsağlığı|harekat|savaş|rahmetli|operasyon|acı|asker|hain|PKK|PYD|FETÖ|YPG|güvenlik\")), \"LikeCount\"])\n",
    "print(res)"
   ]
  },
  {
   "cell_type": "markdown",
   "id": "16fae861-a8b8-4202-bcaf-c0a03e0be61b",
   "metadata": {},
   "source": [
    "There are no difference between these two samples according to test."
   ]
  },
  {
   "cell_type": "code",
   "execution_count": 29,
   "id": "eea3a701-cb2a-4433-a432-bdda4ce1164b",
   "metadata": {},
   "outputs": [
    {
     "name": "stdout",
     "output_type": "stream",
     "text": [
      "Test Stat = 0.7400, p-value = 0.0000\n"
     ]
    }
   ],
   "source": [
    "test_stat, pvalue = shapiro(tweets_df_rte.loc[~(tweets_df_rte[\"Text\"].str.contains(\"terör|şehit|başsağlığı|harekat|savaş|rahmetli|operasyon|acı|asker|hain|PKK|PYD|FETÖ|YPG|güvenlik\")), \"LikeCount\"])\n",
    "print('Test Stat = %.4f, p-value = %.4f' % (test_stat, pvalue))"
   ]
  },
  {
   "cell_type": "code",
   "execution_count": 30,
   "id": "5fa970d0-6e18-4850-840c-d081c2a0e4a5",
   "metadata": {},
   "outputs": [
    {
     "name": "stdout",
     "output_type": "stream",
     "text": [
      "Test Stat = 0.9124, p-value = 0.0000\n"
     ]
    }
   ],
   "source": [
    "test_stat, pvalue = shapiro(tweets_df_rte.loc[(tweets_df_rte[\"Text\"].str.contains(\"terör|şehit|başsağlığı|harekat|savaş|rahmetli|operasyon|acı|asker|hain|PKK|PYD|FETÖ|YPG|güvenlik\")), \"LikeCount\"])\n",
    "print('Test Stat = %.4f, p-value = %.4f' % (test_stat, pvalue))"
   ]
  },
  {
   "cell_type": "code",
   "execution_count": 31,
   "id": "69f853e7-b105-4994-9355-48a83724cc49",
   "metadata": {},
   "outputs": [
    {
     "name": "stdout",
     "output_type": "stream",
     "text": [
      "MannwhitneyuResult(statistic=44991.0, pvalue=0.7047254258530257)\n"
     ]
    }
   ],
   "source": [
    "res = mannwhitneyu(tweets_df_rte.loc[~(tweets_df_kk[\"Text\"].str.contains(\"terör|şehit|başsağlığı|harekat|savaş|rahmetli|operasyon|acı|asker|hain|PKK|PYD|FETÖ|YPG|güvenlik\")), \"LikeCount\"], tweets_df_rte.loc[(tweets_df_rte[\"Text\"].str.contains(\"terör|şehit|başsağlığı|harekat|savaş|rahmetli|operasyon|acı|asker|hain|PKK|PYD|FETÖ|YPG|güvenlik\")), \"LikeCount\"])\n",
    "print(res)"
   ]
  },
  {
   "cell_type": "markdown",
   "id": "3c16170f-c625-4b57-bd44-c0249048f1a6",
   "metadata": {},
   "source": [
    "There are no difference in the number of likes between the rest of the tweets of Recep Tayyip Erdoğan above and those related to terrorism."
   ]
  },
  {
   "cell_type": "code",
   "execution_count": 32,
   "id": "cecdd34d-e936-4382-9695-0dd6fc4172e5",
   "metadata": {},
   "outputs": [
    {
     "name": "stdout",
     "output_type": "stream",
     "text": [
      "Test Stat = 0.7516, p-value = 0.0000\n"
     ]
    }
   ],
   "source": [
    "test_stat, pvalue = shapiro(tweets_df_kk.loc[~(tweets_df_kk[\"Text\"].str.contains(\"ekonomi|zam|vergi|enflasyon|ücret|rahmetli|maaş|asgari|pahalı|para|faiz|üretim|piyasa|borsa\")), \"LikeCount\"])\n",
    "print('Test Stat = %.4f, p-value = %.4f' % (test_stat, pvalue))"
   ]
  },
  {
   "cell_type": "code",
   "execution_count": 33,
   "id": "d2abc24d-64d5-4296-b1aa-bed41bc35420",
   "metadata": {},
   "outputs": [
    {
     "name": "stdout",
     "output_type": "stream",
     "text": [
      "Test Stat = 0.7171, p-value = 0.0000\n"
     ]
    }
   ],
   "source": [
    "test_stat, pvalue = shapiro(tweets_df_kk.loc[(tweets_df_kk[\"Text\"].str.contains(\"ekonomi|zam|vergi|enflasyon|ücret|rahmetli|maaş|asgari|pahalı|para|faiz|üretim|piyasa|borsa\")), \"LikeCount\"])\n",
    "print('Test Stat = %.4f, p-value = %.4f' % (test_stat, pvalue))"
   ]
  },
  {
   "cell_type": "code",
   "execution_count": 34,
   "id": "c748430a-7f92-49c1-89fc-0a74add0432b",
   "metadata": {},
   "outputs": [
    {
     "name": "stdout",
     "output_type": "stream",
     "text": [
      "MannwhitneyuResult(statistic=39746.5, pvalue=6.306737281264554e-10)\n"
     ]
    }
   ],
   "source": [
    "res = mannwhitneyu(tweets_df_kk.loc[~(tweets_df_kk[\"Text\"].str.contains(\"ekonomi|zam|vergi|enflasyon|ücret|rahmetli|maaş|asgari|pahalı|para|faiz|üretim|piyasa|borsa\")), \"LikeCount\"], tweets_df_kk.loc[(tweets_df_kk[\"Text\"].str.contains(\"ekonomi|zam|vergi|enflasyon|ücret|rahmetli|maaş|asgari|pahalı|para|faiz|üretim|piyasa|borsa\")), \"LikeCount\"])\n",
    "print(res)"
   ]
  },
  {
   "cell_type": "markdown",
   "id": "16556da6-f44e-4c3c-82b6-1a49ff7224d4",
   "metadata": {},
   "source": [
    "The number of likes received by Kemal Kılıçdaroğlu's tweets related to the economy was different from the number of likes received by his non-economic tweets. When we look at the values, we can see that these tweets get more likes."
   ]
  },
  {
   "cell_type": "code",
   "execution_count": 35,
   "id": "e37c4763-02a2-487e-a7f1-17c9acd8e884",
   "metadata": {},
   "outputs": [
    {
     "name": "stdout",
     "output_type": "stream",
     "text": [
      "Test Stat = 0.7424, p-value = 0.0000\n"
     ]
    }
   ],
   "source": [
    "test_stat, pvalue = shapiro(tweets_df_rte.loc[~(tweets_df_rte[\"Text\"].str.contains(\"ekonomi|zam|vergi|enflasyon|ücret|rahmetli|maaş|asgari|pahalı|para|faiz|üretim|piyasa|borsa\")), \"LikeCount\"])\n",
    "print('Test Stat = %.4f, p-value = %.4f' % (test_stat, pvalue))"
   ]
  },
  {
   "cell_type": "code",
   "execution_count": 36,
   "id": "651cddba-faab-4b5f-be2e-678ff17725d7",
   "metadata": {},
   "outputs": [
    {
     "name": "stdout",
     "output_type": "stream",
     "text": [
      "Test Stat = 0.9079, p-value = 0.0000\n"
     ]
    }
   ],
   "source": [
    "test_stat, pvalue = shapiro(tweets_df_rte.loc[(tweets_df_rte[\"Text\"].str.contains(\"ekonomi|zam|vergi|enflasyon|ücret|rahmetli|maaş|asgari|pahalı|para|faiz|üretim|piyasa|borsa\")), \"LikeCount\"])\n",
    "print('Test Stat = %.4f, p-value = %.4f' % (test_stat, pvalue))"
   ]
  },
  {
   "cell_type": "code",
   "execution_count": 37,
   "id": "f8f66bdd-358c-48b9-8aca-fb5f7fa50c18",
   "metadata": {},
   "outputs": [
    {
     "name": "stdout",
     "output_type": "stream",
     "text": [
      "MannwhitneyuResult(statistic=48065.0, pvalue=0.9560201753310964)\n"
     ]
    }
   ],
   "source": [
    "res = mannwhitneyu(tweets_df_rte.loc[~(tweets_df_rte[\"Text\"].str.contains(\"ekonomi|zam|vergi|enflasyon|ücret|rahmetli|maaş|asgari|pahalı|para|faiz|üretim|piyasa|borsa\")), \"LikeCount\"], tweets_df_rte.loc[(tweets_df_rte[\"Text\"].str.contains(\"ekonomi|zam|vergi|enflasyon|ücret|rahmetli|maaş|asgari|pahalı|para|faiz|üretim|piyasa|borsa\")), \"LikeCount\"])\n",
    "print(res)"
   ]
  },
  {
   "cell_type": "markdown",
   "id": "5f61ae41-4931-4272-a444-9f61c6c72a21",
   "metadata": {},
   "source": [
    "It was seen that the number of likes received by Tayyip Erdoğan's tweets related to the economy was not different from the number of likes received by his tweets that were not related to the economy."
   ]
  },
  {
   "cell_type": "code",
   "execution_count": 38,
   "id": "b2da3267-e11e-4ed7-9de1-e6d106e9c5bc",
   "metadata": {},
   "outputs": [
    {
     "name": "stdout",
     "output_type": "stream",
     "text": [
      "MannwhitneyuResult(statistic=10150.5, pvalue=5.826354037034689e-07)\n"
     ]
    }
   ],
   "source": [
    "res = mannwhitneyu(tweets_df_kk.loc[(tweets_df_kk[\"Text\"].str.contains(\"ekonomi|zam|vergi|enflasyon|ücret|rahmetli|maaş|asgari|pahalı|para|faiz|üretim|piyasa|borsa\")), \"LikeCount\"], tweets_df_rte.loc[(tweets_df_rte[\"Text\"].str.contains(\"ekonomi|zam|vergi|enflasyon|ücret|rahmetli|maaş|asgari|pahalı|para|faiz|üretim|piyasa|borsa\")), \"LikeCount\"])\n",
    "print(res)"
   ]
  },
  {
   "cell_type": "markdown",
   "id": "9f96964c-ec12-4494-9497-4c7edb0ba68a",
   "metadata": {},
   "source": [
    "It turned out that the number of likes received by Kemal Kılıçdaroğlu's tweets related to the economy was different from the number of likes of Tayyip Erdoğan's tweets related to the economy. When we look at the values, it is seen that Kemal Kılıçdaroğlu's tweets on this subject are getting more likes."
   ]
  },
  {
   "cell_type": "code",
   "execution_count": 39,
   "id": "c72e9198-c781-4632-ab83-170f264fdca9",
   "metadata": {},
   "outputs": [
    {
     "name": "stdout",
     "output_type": "stream",
     "text": [
      "MannwhitneyuResult(statistic=11177.0, pvalue=0.8752229553335366)\n"
     ]
    }
   ],
   "source": [
    "res = mannwhitneyu(tweets_df_kk.loc[(tweets_df_kk[\"Text\"].str.contains(\"terör|şehit|başsağlığı|harekat|savaş|rahmetli|operasyon|acı|asker|hain|PKK|PYD|FETÖ|YPG|güvenlik\")), \"LikeCount\"], tweets_df_rte.loc[(tweets_df_rte[\"Text\"].str.contains(\"terör|şehit|başsağlığı|harekat|savaş|rahmetli|operasyon|acı|asker|hain|PKK|PYD|FETÖ|YPG|güvenlik\")), \"LikeCount\"])\n",
    "print(res)"
   ]
  },
  {
   "cell_type": "markdown",
   "id": "e4601a4a-18fb-456e-a2db-e311c49553fa",
   "metadata": {},
   "source": [
    "It was seen that the number of likes received by Kemal Kılıçdaroğlu's tweets related to terrorism was not different from the number of likes of Tayyip Erdoğan's tweets related to terrorism."
   ]
  },
  {
   "cell_type": "markdown",
   "id": "c82859c7-5003-4388-bd56-5efc7478d76b",
   "metadata": {},
   "source": [
    "I think talking about the economy will win the election :)"
   ]
  },
  {
   "cell_type": "code",
   "execution_count": null,
   "id": "66c7c328-11d5-470d-b68e-50873d85c81e",
   "metadata": {},
   "outputs": [],
   "source": []
  }
 ],
 "metadata": {
  "kernelspec": {
   "display_name": "Python 3 (ipykernel)",
   "language": "python",
   "name": "python3"
  },
  "language_info": {
   "codemirror_mode": {
    "name": "ipython",
    "version": 3
   },
   "file_extension": ".py",
   "mimetype": "text/x-python",
   "name": "python",
   "nbconvert_exporter": "python",
   "pygments_lexer": "ipython3",
   "version": "3.8.15"
  }
 },
 "nbformat": 4,
 "nbformat_minor": 5
}
